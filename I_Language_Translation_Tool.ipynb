{
  "nbformat": 4,
  "nbformat_minor": 0,
  "metadata": {
    "colab": {
      "provenance": [],
      "authorship_tag": "ABX9TyOnY7ljPcLdZsYnO9A6Te6f",
      "include_colab_link": true
    },
    "kernelspec": {
      "name": "python3",
      "display_name": "Python 3"
    },
    "language_info": {
      "name": "python"
    },
    "widgets": {
      "application/vnd.jupyter.widget-state+json": {
        "83ebb61422bd422d9cc188ff35bc0e0a": {
          "model_module": "@jupyter-widgets/controls",
          "model_name": "TextareaModel",
          "model_module_version": "1.5.0",
          "state": {
            "_dom_classes": [],
            "_model_module": "@jupyter-widgets/controls",
            "_model_module_version": "1.5.0",
            "_model_name": "TextareaModel",
            "_view_count": null,
            "_view_module": "@jupyter-widgets/controls",
            "_view_module_version": "1.5.0",
            "_view_name": "TextareaView",
            "continuous_update": true,
            "description": "Text:",
            "description_tooltip": null,
            "disabled": false,
            "layout": "IPY_MODEL_98de0c4f09a74bd3b8c81657fd4e7ea7",
            "placeholder": "Type text here...",
            "rows": null,
            "style": "IPY_MODEL_0466225f6ccd47c6a664429e65c495c5",
            "value": "நீங்கள் எப்படி இருக்கிறீர்கள்?\n"
          }
        },
        "98de0c4f09a74bd3b8c81657fd4e7ea7": {
          "model_module": "@jupyter-widgets/base",
          "model_name": "LayoutModel",
          "model_module_version": "1.2.0",
          "state": {
            "_model_module": "@jupyter-widgets/base",
            "_model_module_version": "1.2.0",
            "_model_name": "LayoutModel",
            "_view_count": null,
            "_view_module": "@jupyter-widgets/base",
            "_view_module_version": "1.2.0",
            "_view_name": "LayoutView",
            "align_content": null,
            "align_items": null,
            "align_self": null,
            "border": null,
            "bottom": null,
            "display": null,
            "flex": null,
            "flex_flow": null,
            "grid_area": null,
            "grid_auto_columns": null,
            "grid_auto_flow": null,
            "grid_auto_rows": null,
            "grid_column": null,
            "grid_gap": null,
            "grid_row": null,
            "grid_template_areas": null,
            "grid_template_columns": null,
            "grid_template_rows": null,
            "height": null,
            "justify_content": null,
            "justify_items": null,
            "left": null,
            "margin": null,
            "max_height": null,
            "max_width": null,
            "min_height": null,
            "min_width": null,
            "object_fit": null,
            "object_position": null,
            "order": null,
            "overflow": null,
            "overflow_x": null,
            "overflow_y": null,
            "padding": null,
            "right": null,
            "top": null,
            "visibility": null,
            "width": null
          }
        },
        "0466225f6ccd47c6a664429e65c495c5": {
          "model_module": "@jupyter-widgets/controls",
          "model_name": "DescriptionStyleModel",
          "model_module_version": "1.5.0",
          "state": {
            "_model_module": "@jupyter-widgets/controls",
            "_model_module_version": "1.5.0",
            "_model_name": "DescriptionStyleModel",
            "_view_count": null,
            "_view_module": "@jupyter-widgets/base",
            "_view_module_version": "1.2.0",
            "_view_name": "StyleView",
            "description_width": ""
          }
        },
        "4fdc604fade547499262a19c7ee873ad": {
          "model_module": "@jupyter-widgets/controls",
          "model_name": "DropdownModel",
          "model_module_version": "1.5.0",
          "state": {
            "_dom_classes": [],
            "_model_module": "@jupyter-widgets/controls",
            "_model_module_version": "1.5.0",
            "_model_name": "DropdownModel",
            "_options_labels": [
              "auto",
              "en",
              "es",
              "fr",
              "de",
              "zh-cn",
              "hi",
              "ar",
              "ru",
              "ja",
              "ta"
            ],
            "_view_count": null,
            "_view_module": "@jupyter-widgets/controls",
            "_view_module_version": "1.5.0",
            "_view_name": "DropdownView",
            "description": "Source Language:",
            "description_tooltip": null,
            "disabled": false,
            "index": 0,
            "layout": "IPY_MODEL_02a232add627471ea2a8c6656922598d",
            "style": "IPY_MODEL_e4f2bb97d143448d9ba932ccd3d7e00c"
          }
        },
        "02a232add627471ea2a8c6656922598d": {
          "model_module": "@jupyter-widgets/base",
          "model_name": "LayoutModel",
          "model_module_version": "1.2.0",
          "state": {
            "_model_module": "@jupyter-widgets/base",
            "_model_module_version": "1.2.0",
            "_model_name": "LayoutModel",
            "_view_count": null,
            "_view_module": "@jupyter-widgets/base",
            "_view_module_version": "1.2.0",
            "_view_name": "LayoutView",
            "align_content": null,
            "align_items": null,
            "align_self": null,
            "border": null,
            "bottom": null,
            "display": null,
            "flex": null,
            "flex_flow": null,
            "grid_area": null,
            "grid_auto_columns": null,
            "grid_auto_flow": null,
            "grid_auto_rows": null,
            "grid_column": null,
            "grid_gap": null,
            "grid_row": null,
            "grid_template_areas": null,
            "grid_template_columns": null,
            "grid_template_rows": null,
            "height": null,
            "justify_content": null,
            "justify_items": null,
            "left": null,
            "margin": null,
            "max_height": null,
            "max_width": null,
            "min_height": null,
            "min_width": null,
            "object_fit": null,
            "object_position": null,
            "order": null,
            "overflow": null,
            "overflow_x": null,
            "overflow_y": null,
            "padding": null,
            "right": null,
            "top": null,
            "visibility": null,
            "width": null
          }
        },
        "e4f2bb97d143448d9ba932ccd3d7e00c": {
          "model_module": "@jupyter-widgets/controls",
          "model_name": "DescriptionStyleModel",
          "model_module_version": "1.5.0",
          "state": {
            "_model_module": "@jupyter-widgets/controls",
            "_model_module_version": "1.5.0",
            "_model_name": "DescriptionStyleModel",
            "_view_count": null,
            "_view_module": "@jupyter-widgets/base",
            "_view_module_version": "1.2.0",
            "_view_name": "StyleView",
            "description_width": ""
          }
        },
        "a54d5dd2877948649194e1b853488e81": {
          "model_module": "@jupyter-widgets/controls",
          "model_name": "DropdownModel",
          "model_module_version": "1.5.0",
          "state": {
            "_dom_classes": [],
            "_model_module": "@jupyter-widgets/controls",
            "_model_module_version": "1.5.0",
            "_model_name": "DropdownModel",
            "_options_labels": [
              "en",
              "es",
              "fr",
              "de",
              "zh-cn",
              "hi",
              "ar",
              "ru",
              "ja",
              "ta"
            ],
            "_view_count": null,
            "_view_module": "@jupyter-widgets/controls",
            "_view_module_version": "1.5.0",
            "_view_name": "DropdownView",
            "description": "Target Language:",
            "description_tooltip": null,
            "disabled": false,
            "index": 0,
            "layout": "IPY_MODEL_9171583ee31c42d284718fbb424a0fec",
            "style": "IPY_MODEL_5000d5cf6b48449398803c21110d1768"
          }
        },
        "9171583ee31c42d284718fbb424a0fec": {
          "model_module": "@jupyter-widgets/base",
          "model_name": "LayoutModel",
          "model_module_version": "1.2.0",
          "state": {
            "_model_module": "@jupyter-widgets/base",
            "_model_module_version": "1.2.0",
            "_model_name": "LayoutModel",
            "_view_count": null,
            "_view_module": "@jupyter-widgets/base",
            "_view_module_version": "1.2.0",
            "_view_name": "LayoutView",
            "align_content": null,
            "align_items": null,
            "align_self": null,
            "border": null,
            "bottom": null,
            "display": null,
            "flex": null,
            "flex_flow": null,
            "grid_area": null,
            "grid_auto_columns": null,
            "grid_auto_flow": null,
            "grid_auto_rows": null,
            "grid_column": null,
            "grid_gap": null,
            "grid_row": null,
            "grid_template_areas": null,
            "grid_template_columns": null,
            "grid_template_rows": null,
            "height": null,
            "justify_content": null,
            "justify_items": null,
            "left": null,
            "margin": null,
            "max_height": null,
            "max_width": null,
            "min_height": null,
            "min_width": null,
            "object_fit": null,
            "object_position": null,
            "order": null,
            "overflow": null,
            "overflow_x": null,
            "overflow_y": null,
            "padding": null,
            "right": null,
            "top": null,
            "visibility": null,
            "width": null
          }
        },
        "5000d5cf6b48449398803c21110d1768": {
          "model_module": "@jupyter-widgets/controls",
          "model_name": "DescriptionStyleModel",
          "model_module_version": "1.5.0",
          "state": {
            "_model_module": "@jupyter-widgets/controls",
            "_model_module_version": "1.5.0",
            "_model_name": "DescriptionStyleModel",
            "_view_count": null,
            "_view_module": "@jupyter-widgets/base",
            "_view_module_version": "1.2.0",
            "_view_name": "StyleView",
            "description_width": ""
          }
        },
        "5a8bc9931d0043a58f4368acda394891": {
          "model_module": "@jupyter-widgets/controls",
          "model_name": "ButtonModel",
          "model_module_version": "1.5.0",
          "state": {
            "_dom_classes": [],
            "_model_module": "@jupyter-widgets/controls",
            "_model_module_version": "1.5.0",
            "_model_name": "ButtonModel",
            "_view_count": null,
            "_view_module": "@jupyter-widgets/controls",
            "_view_module_version": "1.5.0",
            "_view_name": "ButtonView",
            "button_style": "",
            "description": "Translate",
            "disabled": false,
            "icon": "check",
            "layout": "IPY_MODEL_8f57083b35ae482ebdd1562272b419ea",
            "style": "IPY_MODEL_415f83250ada4dccbdbc2c693ae68454",
            "tooltip": "Click to translate text"
          }
        },
        "8f57083b35ae482ebdd1562272b419ea": {
          "model_module": "@jupyter-widgets/base",
          "model_name": "LayoutModel",
          "model_module_version": "1.2.0",
          "state": {
            "_model_module": "@jupyter-widgets/base",
            "_model_module_version": "1.2.0",
            "_model_name": "LayoutModel",
            "_view_count": null,
            "_view_module": "@jupyter-widgets/base",
            "_view_module_version": "1.2.0",
            "_view_name": "LayoutView",
            "align_content": null,
            "align_items": null,
            "align_self": null,
            "border": null,
            "bottom": null,
            "display": null,
            "flex": null,
            "flex_flow": null,
            "grid_area": null,
            "grid_auto_columns": null,
            "grid_auto_flow": null,
            "grid_auto_rows": null,
            "grid_column": null,
            "grid_gap": null,
            "grid_row": null,
            "grid_template_areas": null,
            "grid_template_columns": null,
            "grid_template_rows": null,
            "height": null,
            "justify_content": null,
            "justify_items": null,
            "left": null,
            "margin": null,
            "max_height": null,
            "max_width": null,
            "min_height": null,
            "min_width": null,
            "object_fit": null,
            "object_position": null,
            "order": null,
            "overflow": null,
            "overflow_x": null,
            "overflow_y": null,
            "padding": null,
            "right": null,
            "top": null,
            "visibility": null,
            "width": null
          }
        },
        "415f83250ada4dccbdbc2c693ae68454": {
          "model_module": "@jupyter-widgets/controls",
          "model_name": "ButtonStyleModel",
          "model_module_version": "1.5.0",
          "state": {
            "_model_module": "@jupyter-widgets/controls",
            "_model_module_version": "1.5.0",
            "_model_name": "ButtonStyleModel",
            "_view_count": null,
            "_view_module": "@jupyter-widgets/base",
            "_view_module_version": "1.2.0",
            "_view_name": "StyleView",
            "button_color": null,
            "font_weight": ""
          }
        },
        "e502d8c5b00c4770a9916644ce12447d": {
          "model_module": "@jupyter-widgets/controls",
          "model_name": "TextareaModel",
          "model_module_version": "1.5.0",
          "state": {
            "_dom_classes": [],
            "_model_module": "@jupyter-widgets/controls",
            "_model_module_version": "1.5.0",
            "_model_name": "TextareaModel",
            "_view_count": null,
            "_view_module": "@jupyter-widgets/controls",
            "_view_module_version": "1.5.0",
            "_view_name": "TextareaView",
            "continuous_update": true,
            "description": "Translation:",
            "description_tooltip": null,
            "disabled": false,
            "layout": "IPY_MODEL_3002314432124c8584850e7643a104bc",
            "placeholder": "Translation will appear here...",
            "rows": null,
            "style": "IPY_MODEL_1da4a40912314bc39205669dafae8f97",
            "value": "How are you?"
          }
        },
        "3002314432124c8584850e7643a104bc": {
          "model_module": "@jupyter-widgets/base",
          "model_name": "LayoutModel",
          "model_module_version": "1.2.0",
          "state": {
            "_model_module": "@jupyter-widgets/base",
            "_model_module_version": "1.2.0",
            "_model_name": "LayoutModel",
            "_view_count": null,
            "_view_module": "@jupyter-widgets/base",
            "_view_module_version": "1.2.0",
            "_view_name": "LayoutView",
            "align_content": null,
            "align_items": null,
            "align_self": null,
            "border": null,
            "bottom": null,
            "display": null,
            "flex": null,
            "flex_flow": null,
            "grid_area": null,
            "grid_auto_columns": null,
            "grid_auto_flow": null,
            "grid_auto_rows": null,
            "grid_column": null,
            "grid_gap": null,
            "grid_row": null,
            "grid_template_areas": null,
            "grid_template_columns": null,
            "grid_template_rows": null,
            "height": null,
            "justify_content": null,
            "justify_items": null,
            "left": null,
            "margin": null,
            "max_height": null,
            "max_width": null,
            "min_height": null,
            "min_width": null,
            "object_fit": null,
            "object_position": null,
            "order": null,
            "overflow": null,
            "overflow_x": null,
            "overflow_y": null,
            "padding": null,
            "right": null,
            "top": null,
            "visibility": null,
            "width": null
          }
        },
        "1da4a40912314bc39205669dafae8f97": {
          "model_module": "@jupyter-widgets/controls",
          "model_name": "DescriptionStyleModel",
          "model_module_version": "1.5.0",
          "state": {
            "_model_module": "@jupyter-widgets/controls",
            "_model_module_version": "1.5.0",
            "_model_name": "DescriptionStyleModel",
            "_view_count": null,
            "_view_module": "@jupyter-widgets/base",
            "_view_module_version": "1.2.0",
            "_view_name": "StyleView",
            "description_width": ""
          }
        }
      }
    }
  },
  "cells": [
    {
      "cell_type": "markdown",
      "metadata": {
        "id": "view-in-github",
        "colab_type": "text"
      },
      "source": [
        "<a href=\"https://colab.research.google.com/github/VenkataramanSuriya/CodeAlpha_Language_Translation_Tool/blob/main/I_Language_Translation_Tool.ipynb\" target=\"_parent\"><img src=\"https://colab.research.google.com/assets/colab-badge.svg\" alt=\"Open In Colab\"/></a>"
      ]
    },
    {
      "cell_type": "markdown",
      "source": [
        "# **I - Language Translation Tool**"
      ],
      "metadata": {
        "id": "hT7DWuAofDfg"
      }
    },
    {
      "cell_type": "markdown",
      "source": [
        "**Setting Up the Environment**"
      ],
      "metadata": {
        "id": "M4k4VRqoi_FT"
      }
    },
    {
      "cell_type": "code",
      "execution_count": null,
      "metadata": {
        "colab": {
          "base_uri": "https://localhost:8080/"
        },
        "id": "R-nZ934KeAA-",
        "outputId": "462e884f-dca6-48c1-fa15-36e990e8e0e9"
      },
      "outputs": [
        {
          "output_type": "stream",
          "name": "stdout",
          "text": [
            "Requirement already satisfied: googletrans==4.0.0-rc1 in /usr/local/lib/python3.10/dist-packages (4.0.0rc1)\n",
            "Requirement already satisfied: httpx==0.13.3 in /usr/local/lib/python3.10/dist-packages (from googletrans==4.0.0-rc1) (0.13.3)\n",
            "Requirement already satisfied: certifi in /usr/local/lib/python3.10/dist-packages (from httpx==0.13.3->googletrans==4.0.0-rc1) (2024.7.4)\n",
            "Requirement already satisfied: hstspreload in /usr/local/lib/python3.10/dist-packages (from httpx==0.13.3->googletrans==4.0.0-rc1) (2024.8.1)\n",
            "Requirement already satisfied: sniffio in /usr/local/lib/python3.10/dist-packages (from httpx==0.13.3->googletrans==4.0.0-rc1) (1.3.1)\n",
            "Requirement already satisfied: chardet==3.* in /usr/local/lib/python3.10/dist-packages (from httpx==0.13.3->googletrans==4.0.0-rc1) (3.0.4)\n",
            "Requirement already satisfied: idna==2.* in /usr/local/lib/python3.10/dist-packages (from httpx==0.13.3->googletrans==4.0.0-rc1) (2.10)\n",
            "Requirement already satisfied: rfc3986<2,>=1.3 in /usr/local/lib/python3.10/dist-packages (from httpx==0.13.3->googletrans==4.0.0-rc1) (1.5.0)\n",
            "Requirement already satisfied: httpcore==0.9.* in /usr/local/lib/python3.10/dist-packages (from httpx==0.13.3->googletrans==4.0.0-rc1) (0.9.1)\n",
            "Requirement already satisfied: h11<0.10,>=0.8 in /usr/local/lib/python3.10/dist-packages (from httpcore==0.9.*->httpx==0.13.3->googletrans==4.0.0-rc1) (0.9.0)\n",
            "Requirement already satisfied: h2==3.* in /usr/local/lib/python3.10/dist-packages (from httpcore==0.9.*->httpx==0.13.3->googletrans==4.0.0-rc1) (3.2.0)\n",
            "Requirement already satisfied: hyperframe<6,>=5.2.0 in /usr/local/lib/python3.10/dist-packages (from h2==3.*->httpcore==0.9.*->httpx==0.13.3->googletrans==4.0.0-rc1) (5.2.0)\n",
            "Requirement already satisfied: hpack<4,>=3.0 in /usr/local/lib/python3.10/dist-packages (from h2==3.*->httpcore==0.9.*->httpx==0.13.3->googletrans==4.0.0-rc1) (3.0.0)\n"
          ]
        }
      ],
      "source": [
        "!pip install googletrans==4.0.0-rc1\n"
      ]
    },
    {
      "cell_type": "markdown",
      "source": [
        "Example !"
      ],
      "metadata": {
        "id": "OBrXFKlRe0IM"
      }
    },
    {
      "cell_type": "code",
      "source": [
        "from googletrans import Translator\n",
        "\n",
        "def translate_text(text, src_lang='auto', dest_lang='en'):\n",
        "    translator = Translator()\n",
        "    translation = translator.translate(text, src=src_lang, dest=dest_lang)\n",
        "    return translation.text\n",
        "\n",
        "text_to_translate = \"Hola, ¿cómo estás?\"\n",
        "translated_text = translate_text(text_to_translate, src_lang='es', dest_lang='en')\n",
        "print(f\"Translated Text: {translated_text}\")\n"
      ],
      "metadata": {
        "colab": {
          "base_uri": "https://localhost:8080/"
        },
        "id": "pg26nziZeDg7",
        "outputId": "35fb5a3f-cd32-4917-ed66-6455d4aada48"
      },
      "execution_count": null,
      "outputs": [
        {
          "output_type": "stream",
          "name": "stdout",
          "text": [
            "Translated Text: Hello how are you?\n"
          ]
        }
      ]
    },
    {
      "cell_type": "markdown",
      "source": [
        " **Installing Dependency**"
      ],
      "metadata": {
        "id": "vSn6qOuIfNTr"
      }
    },
    {
      "cell_type": "code",
      "source": [
        "from googletrans import Translator\n",
        "import ipywidgets as widgets\n",
        "from IPython.display import display\n",
        "\n",
        "def on_translate_button_click(b):\n",
        "    translator = Translator()\n",
        "    translated = translator.translate(text_input.value, src=src_lang_dropdown.value, dest=dest_lang_dropdown.value)\n",
        "    result_output.value = translated.text"
      ],
      "metadata": {
        "id": "u5-Xq6xdeMOb"
      },
      "execution_count": null,
      "outputs": []
    },
    {
      "cell_type": "markdown",
      "source": [
        "Input text box"
      ],
      "metadata": {
        "id": "JrIp_iWEfcKF"
      }
    },
    {
      "cell_type": "code",
      "source": [
        "text_input = widgets.Textarea(\n",
        "    value='',\n",
        "    placeholder='Type text here...',\n",
        "    description='Text:',\n",
        "    disabled=False\n",
        ")\n"
      ],
      "metadata": {
        "id": "wGE_JJuxfc-K"
      },
      "execution_count": null,
      "outputs": []
    },
    {
      "cell_type": "markdown",
      "source": [
        "Source language dropdown"
      ],
      "metadata": {
        "id": "DDq_ygh4ffWg"
      }
    },
    {
      "cell_type": "code",
      "source": [
        "src_lang_dropdown = widgets.Dropdown(\n",
        "    options=['auto', 'en', 'es', 'fr', 'de', 'zh-cn', 'hi', 'ar', 'ru', 'ja', 'ta'],  # Added 'ta' for Tamil\n",
        "    value='auto',\n",
        "    description='Source Language:',\n",
        "    disabled=False,\n",
        ")\n"
      ],
      "metadata": {
        "id": "A4i5qvluff_8"
      },
      "execution_count": null,
      "outputs": []
    },
    {
      "cell_type": "markdown",
      "source": [
        "Destination language dropdown"
      ],
      "metadata": {
        "id": "cmEvmtnvficX"
      }
    },
    {
      "cell_type": "code",
      "source": [
        "dest_lang_dropdown = widgets.Dropdown(\n",
        "    options=['en', 'es', 'fr', 'de', 'zh-cn', 'hi', 'ar', 'ru', 'ja', 'ta'],  # Added 'ta' for Tamil\n",
        "    value='en',\n",
        "    description='Target Language:',\n",
        "    disabled=False,\n",
        ")\n"
      ],
      "metadata": {
        "id": "xJHzUiqqfjFO"
      },
      "execution_count": null,
      "outputs": []
    },
    {
      "cell_type": "markdown",
      "source": [
        "Translate button"
      ],
      "metadata": {
        "id": "FAXfvi0Jflis"
      }
    },
    {
      "cell_type": "code",
      "source": [
        "translate_button = widgets.Button(\n",
        "    description='Translate',\n",
        "    disabled=False,\n",
        "    button_style='',\n",
        "    tooltip='Click to translate text',\n",
        "    icon='check'\n",
        ")\n"
      ],
      "metadata": {
        "id": "JteaDidRfmNm"
      },
      "execution_count": null,
      "outputs": []
    },
    {
      "cell_type": "markdown",
      "source": [
        "Output widget"
      ],
      "metadata": {
        "id": "nDuezZlCfoLo"
      }
    },
    {
      "cell_type": "code",
      "source": [
        "result_output = widgets.Textarea(\n",
        "    value='',\n",
        "    placeholder='Translation will appear here...',\n",
        "    description='Translation:',\n",
        "    disabled=False\n",
        ")\n"
      ],
      "metadata": {
        "id": "0ned-1hPfo3_"
      },
      "execution_count": null,
      "outputs": []
    },
    {
      "cell_type": "markdown",
      "source": [
        "Set the button click event"
      ],
      "metadata": {
        "id": "lGIGBO7mfrm1"
      }
    },
    {
      "cell_type": "code",
      "source": [
        "translate_button.on_click(on_translate_button_click)"
      ],
      "metadata": {
        "id": "pMnWpI_2fsN1"
      },
      "execution_count": null,
      "outputs": []
    },
    {
      "cell_type": "markdown",
      "source": [
        "Display the widgets"
      ],
      "metadata": {
        "id": "4hqBLnSSfwpa"
      }
    },
    {
      "cell_type": "code",
      "source": [
        "display(text_input, src_lang_dropdown, dest_lang_dropdown, translate_button, result_output)"
      ],
      "metadata": {
        "colab": {
          "base_uri": "https://localhost:8080/",
          "height": 198,
          "referenced_widgets": [
            "83ebb61422bd422d9cc188ff35bc0e0a",
            "98de0c4f09a74bd3b8c81657fd4e7ea7",
            "0466225f6ccd47c6a664429e65c495c5",
            "4fdc604fade547499262a19c7ee873ad",
            "02a232add627471ea2a8c6656922598d",
            "e4f2bb97d143448d9ba932ccd3d7e00c",
            "a54d5dd2877948649194e1b853488e81",
            "9171583ee31c42d284718fbb424a0fec",
            "5000d5cf6b48449398803c21110d1768",
            "5a8bc9931d0043a58f4368acda394891",
            "8f57083b35ae482ebdd1562272b419ea",
            "415f83250ada4dccbdbc2c693ae68454",
            "e502d8c5b00c4770a9916644ce12447d",
            "3002314432124c8584850e7643a104bc",
            "1da4a40912314bc39205669dafae8f97"
          ]
        },
        "id": "8e4TDZ0MfxTF",
        "outputId": "51124418-504f-48aa-835e-c2d8c212c0d8"
      },
      "execution_count": null,
      "outputs": [
        {
          "output_type": "display_data",
          "data": {
            "text/plain": [
              "Textarea(value='', description='Text:', placeholder='Type text here...')"
            ],
            "application/vnd.jupyter.widget-view+json": {
              "version_major": 2,
              "version_minor": 0,
              "model_id": "83ebb61422bd422d9cc188ff35bc0e0a"
            }
          },
          "metadata": {}
        },
        {
          "output_type": "display_data",
          "data": {
            "text/plain": [
              "Dropdown(description='Source Language:', options=('auto', 'en', 'es', 'fr', 'de', 'zh-cn', 'hi', 'ar', 'ru', '…"
            ],
            "application/vnd.jupyter.widget-view+json": {
              "version_major": 2,
              "version_minor": 0,
              "model_id": "4fdc604fade547499262a19c7ee873ad"
            }
          },
          "metadata": {}
        },
        {
          "output_type": "display_data",
          "data": {
            "text/plain": [
              "Dropdown(description='Target Language:', options=('en', 'es', 'fr', 'de', 'zh-cn', 'hi', 'ar', 'ru', 'ja', 'ta…"
            ],
            "application/vnd.jupyter.widget-view+json": {
              "version_major": 2,
              "version_minor": 0,
              "model_id": "a54d5dd2877948649194e1b853488e81"
            }
          },
          "metadata": {}
        },
        {
          "output_type": "display_data",
          "data": {
            "text/plain": [
              "Button(description='Translate', icon='check', style=ButtonStyle(), tooltip='Click to translate text')"
            ],
            "application/vnd.jupyter.widget-view+json": {
              "version_major": 2,
              "version_minor": 0,
              "model_id": "5a8bc9931d0043a58f4368acda394891"
            }
          },
          "metadata": {}
        },
        {
          "output_type": "display_data",
          "data": {
            "text/plain": [
              "Textarea(value='', description='Translation:', placeholder='Translation will appear here...')"
            ],
            "application/vnd.jupyter.widget-view+json": {
              "version_major": 2,
              "version_minor": 0,
              "model_id": "e502d8c5b00c4770a9916644ce12447d"
            }
          },
          "metadata": {}
        }
      ]
    }
  ]
}